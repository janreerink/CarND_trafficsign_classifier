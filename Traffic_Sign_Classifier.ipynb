{
 "cells": [
  {
   "cell_type": "markdown",
   "metadata": {},
   "source": [
    "# Self-Driving Car Engineer Nanodegree\n",
    "\n",
    "## Deep Learning\n",
    "\n",
    "## Project: Build a Traffic Sign Recognition Classifier\n",
    "\n",
    "In this notebook, a template is provided for you to implement your functionality in stages, which is required to successfully complete this project. If additional code is required that cannot be included in the notebook, be sure that the Python code is successfully imported and included in your submission if necessary. \n",
    "\n",
    "> **Note**: Once you have completed all of the code implementations, you need to finalize your work by exporting the iPython Notebook as an HTML document. Before exporting the notebook to html, all of the code cells need to have been run so that reviewers can see the final implementation and output. You can then export the notebook by using the menu above and navigating to  \\n\",\n",
    "    \"**File -> Download as -> HTML (.html)**. Include the finished document along with this notebook as your submission. \n",
    "\n",
    "In addition to implementing code, there is a writeup to complete. The writeup should be completed in a separate file, which can be either a markdown file or a pdf document. There is a [write up template](https://github.com/udacity/CarND-Traffic-Sign-Classifier-Project/blob/master/writeup_template.md) that can be used to guide the writing process. Completing the code template and writeup template will cover all of the [rubric points](https://review.udacity.com/#!/rubrics/481/view) for this project.\n",
    "\n",
    "The [rubric](https://review.udacity.com/#!/rubrics/481/view) contains \"Stand Out Suggestions\" for enhancing the project beyond the minimum requirements. The stand out suggestions are optional. If you decide to pursue the \"stand out suggestions\", you can include the code in this Ipython notebook and also discuss the results in the writeup file.\n",
    "\n",
    "\n",
    ">**Note:** Code and Markdown cells can be executed using the **Shift + Enter** keyboard shortcut. In addition, Markdown cells can be edited by typically double-clicking the cell to enter edit mode."
   ]
  },
  {
   "cell_type": "markdown",
   "metadata": {},
   "source": [
    "---\n",
    "## Step 0: Load The Data"
   ]
  },
  {
   "cell_type": "code",
   "execution_count": 16,
   "metadata": {
    "collapsed": true
   },
   "outputs": [],
   "source": [
    "# Load pickled data\n",
    "import pickle\n",
    "\n",
    "path_to_data = 'C:/Users/Jan/Desktop/udacity/trafficsigns/traffic-signs-data/'\n",
    "\n",
    "training_file = path_to_data + 'train.p'\n",
    "validation_file= path_to_data + 'valid.p'\n",
    "testing_file = path_to_data + 'test.p'\n",
    "\n",
    "with open(training_file, mode='rb') as f:\n",
    "    train = pickle.load(f)\n",
    "with open(validation_file, mode='rb') as f:\n",
    "    valid = pickle.load(f)\n",
    "with open(testing_file, mode='rb') as f:\n",
    "    test = pickle.load(f)\n",
    "    \n",
    "X_train, y_train = train['features'], train['labels']\n",
    "X_valid, y_valid = valid['features'], valid['labels']\n",
    "X_test, y_test = test['features'], test['labels']"
   ]
  },
  {
   "cell_type": "markdown",
   "metadata": {},
   "source": [
    "---\n",
    "\n",
    "## Step 1: Dataset Summary & Exploration\n",
    "\n",
    "The pickled data is a dictionary with 4 key/value pairs:\n",
    "\n",
    "- `'features'` is a 4D array containing raw pixel data of the traffic sign images, (num examples, width, height, channels).\n",
    "- `'labels'` is a 1D array containing the label/class id of the traffic sign. The file `signnames.csv` contains id -> name mappings for each id.\n",
    "- `'sizes'` is a list containing tuples, (width, height) representing the original width and height the image.\n",
    "- `'coords'` is a list containing tuples, (x1, y1, x2, y2) representing coordinates of a bounding box around the sign in the image. **THESE COORDINATES ASSUME THE ORIGINAL IMAGE. THE PICKLED DATA CONTAINS RESIZED VERSIONS (32 by 32) OF THESE IMAGES**\n",
    "\n",
    "Complete the basic data summary below. Use python, numpy and/or pandas methods to calculate the data summary rather than hard coding the results. For example, the [pandas shape method](http://pandas.pydata.org/pandas-docs/stable/generated/pandas.DataFrame.shape.html) might be useful for calculating some of the summary results. "
   ]
  },
  {
   "cell_type": "markdown",
   "metadata": {},
   "source": [
    "### Provide a Basic Summary of the Data Set Using Python, Numpy and/or Pandas"
   ]
  },
  {
   "cell_type": "code",
   "execution_count": 6,
   "metadata": {},
   "outputs": [
    {
     "name": "stdout",
     "output_type": "stream",
     "text": [
      "Number of training examples = 34799\n",
      "Number of testing examples = 12630\n",
      "Number of validation examples = 4410\n",
      "Image data shape = (32, 32, 3)\n",
      "Number of classes = 43\n"
     ]
    }
   ],
   "source": [
    "### Replace each question mark with the appropriate value. \n",
    "### Use python, pandas or numpy methods rather than hard coding the results\n",
    "\n",
    "import pandas as pd\n",
    "df_train = pd.DataFrame(train['labels'])\n",
    "df_valid = pd.DataFrame(valid['labels'])\n",
    "df_test = pd.DataFrame(test['labels'])\n",
    "df_dataset = df_train.append(df_valid).append(df_test)\n",
    "grouped_labels = df_dataset[0].value_counts() #pd series\n",
    "\n",
    "# TODO: Number of training examples\n",
    "n_train = df_train.shape[0]\n",
    "\n",
    "# TODO: Number of validation examples\n",
    "n_validation = df_valid.shape[0]\n",
    "\n",
    "# TODO: Number of testing examples.\n",
    "n_test = df_test.shape[0]\n",
    "\n",
    "# TODO: What's the shape of an traffic sign image?\n",
    "image_shape = X_train[0].shape\n",
    "\n",
    "# TODO: How many unique classes/labels there are in the dataset.\n",
    "n_classes = len(grouped_labels)\n",
    "\n",
    "print(\"Number of training examples =\", n_train)\n",
    "print(\"Number of testing examples =\", n_test)\n",
    "print(\"Number of validation examples =\", n_validation)\n",
    "print(\"Image data shape =\", image_shape)\n",
    "print(\"Number of classes =\", n_classes)"
   ]
  },
  {
   "cell_type": "markdown",
   "metadata": {},
   "source": [
    "### Include an exploratory visualization of the dataset"
   ]
  },
  {
   "cell_type": "markdown",
   "metadata": {},
   "source": [
    "Visualize the German Traffic Signs Dataset using the pickled file(s). This is open ended, suggestions include: plotting traffic sign images, plotting the count of each sign, etc. \n",
    "\n",
    "The [Matplotlib](http://matplotlib.org/) [examples](http://matplotlib.org/examples/index.html) and [gallery](http://matplotlib.org/gallery.html) pages are a great resource for doing visualizations in Python.\n",
    "\n",
    "**NOTE:** It's recommended you start with something simple first. If you wish to do more, come back to it after you've completed the rest of the sections. It can be interesting to look at the distribution of classes in the training, validation and test set. Is the distribution the same? Are there more examples of some classes than others?"
   ]
  },
  {
   "cell_type": "code",
   "execution_count": 7,
   "metadata": {},
   "outputs": [
    {
     "name": "stdout",
     "output_type": "stream",
     "text": [
      "    ClassId           SignName\n",
      "41       41  End of no passing\n"
     ]
    },
    {
     "data": {
      "image/png": "[encoded data removed]",
      "text/plain": [
       "<matplotlib.figure.Figure at 0x1a647ea6e80>"
      ]
     },
     "metadata": {},
     "output_type": "display_data"
    }
   ],
   "source": [
    "### Data exploration visualization code goes here.\n",
    "### Feel free to use as many code cells as needed.\n",
    "import matplotlib.pyplot as plt\n",
    "import matplotlib.patches as patches\n",
    "# Visualizations will be shown in the notebook.\n",
    "import pandas as pd\n",
    "%matplotlib inline\n",
    "\n",
    "test_idx = 0\n",
    "img_to_test = X_train[test_idx]\n",
    "label_to_test = y_train[test_idx]\n",
    "\n",
    "#print label of first picture in dataset\n",
    "concordance = pd.read_csv('signnames.csv')\n",
    "print(concordance.loc[concordance['ClassId'] == label_to_test])\n",
    "\n",
    "#show picture with bounding box \n",
    "org_size = train['sizes'][test_idx]\n",
    "new_bb = []\n",
    "for idx, x in enumerate(train['coords'][0]):\n",
    "    if idx % 2 == 0:\n",
    "        new_bb.append(round(x*32 / org_size[0]))\n",
    "    else:\n",
    "        new_bb.append(round(x*32 / org_size[1]))\n",
    "\n",
    "fig,ax = plt.subplots(1)\n",
    "ax.imshow(img_to_test)\n",
    "rect = patches.Rectangle((new_bb[0],new_bb[1]),(new_bb[2]-new_bb[0]),(new_bb[3]-new_bb[1]),linewidth=1,edgecolor='r',facecolor='none')\n",
    "ax.add_patch(rect)\n",
    "plt.show()\n",
    "#save result\n",
    "#fig.savefig('examples/vis0.png')"
   ]
  },
  {
   "cell_type": "code",
   "execution_count": 8,
   "metadata": {},
   "outputs": [
    {
     "data": {
      "image/png": "[encoded data removed]",
      "text/plain": [
       "<matplotlib.figure.Figure at 0x1a60008eb00>"
      ]
     },
     "metadata": {},
     "output_type": "display_data"
    },
    {
     "data": {
      "image/png": "[encoded data removed]",
      "text/plain": [
       "<matplotlib.figure.Figure at 0x1a64bb05be0>"
      ]
     },
     "metadata": {},
     "output_type": "display_data"
    }
   ],
   "source": [
    "#show samples per label and proportions for train,test,validation splits\n",
    "group_train = df_train[0].value_counts()\n",
    "group_test = df_test[0].value_counts()\n",
    "group_valid = df_valid[0].value_counts()\n",
    "df_concat = pd.concat([grouped_labels, group_train, group_test, group_valid], axis=1)\n",
    "df_concat.columns = ['All', 'Train', 'Test', 'Valid']\n",
    "\n",
    "fig1 = df_concat['All'].plot(kind='bar', figsize = (16, 4), title='GTSRB: samples per label') \n",
    "fig1 = fig1.get_figure()\n",
    "fig1.savefig('examples/vis1.png')\n",
    "\n",
    "\n",
    "df_concat['Train_rel'] = df_concat['Train'] / df_concat['All']\n",
    "df_concat['Test_rel'] = df_concat['Test'] / df_concat['All']\n",
    "df_concat['Valid_rel'] = df_concat['Valid'] / df_concat['All']\n",
    "\n",
    "fig2 = df_concat[['Train_rel', 'Test_rel', 'Valid_rel']].plot(kind='bar', figsize = (16, 4), title='Train-Test-Validation splits per label') \n",
    "fig2 = fig2.get_figure()\n",
    "fig2.savefig('examples/vis2.png')"
   ]
  },
  {
   "cell_type": "code",
   "execution_count": 17,
   "metadata": {},
   "outputs": [
    {
     "name": "stdout",
     "output_type": "stream",
     "text": [
      "done\n"
     ]
    }
   ],
   "source": [
    "\n",
    "import numpy as np\n",
    "import random\n",
    "import cv2\n",
    "def rotate_img(img):\n",
    "    #rotate image\n",
    "    angle = random.randint(-10, 10)\n",
    "    rows,cols, dim = img.shape\n",
    "    M = cv2.getRotationMatrix2D((cols/2,rows/2),angle,1)\n",
    "    result = cv2.warpAffine(img,M,(cols,rows))\n",
    "    return result\n",
    "\n",
    "def rdn_shift(img):\n",
    "    #randomly shift picture by up to approx. 10% of height/width\n",
    "    rows,cols, dim = img.shape\n",
    "    xshift = random.randint(0,3)\n",
    "    yshift = random.randint(0,3)\n",
    "    M = np.float32([[1,0,xshift],[0,1,yshift]])\n",
    "    shifted = cv2.warpAffine(img,M,(cols,rows))\n",
    "    return shifted\n",
    "\n",
    "def rnd_zoomin(img):\n",
    "    #randomyl zoom on image\n",
    "    zoom_fct = random.randint(0,10)\n",
    "    offset = round(32.0 * (zoom_fct/100.0))\n",
    "    roi = img[0+offset:32+offset, 0+offset:32+offset]\n",
    "    return roi\n",
    "\n",
    "def rnd_zoomout(img):\n",
    "    #randomyl zoom on image\n",
    "    zoomout_pixels = random.randint(0,4)\n",
    "    return cv2.copyMakeBorder(img,zoomout_pixels,zoomout_pixels,zoomout_pixels,zoomout_pixels,cv2.BORDER_CONSTANT,value=[0,0,0])\n",
    "\n",
    "def resize_img(img):\n",
    "    #resize\n",
    "    img = cv2.resize(img,(32,32))\n",
    "    return img\n",
    "\n",
    "\n",
    "def rnd_stretch(img):\n",
    "    #stretch in x or y direction \n",
    "    xstretch = 100 + (random.randint(-10,10) / 100.0)\n",
    "    ystretch = 100 + (random.randint(-10,10) / 100.0)\n",
    "    stretch = cv2.resize(img, (0,0), fx=xstretch/100.0, fy=ystretch/100.0) \n",
    "    return pad_orgsize(stretch)\n",
    "\n",
    "def pad_orgsize(img):\n",
    "    #fill stretched images with black pixels if necessary\n",
    "    if len(img.shape) == 2:\n",
    "        x,y = img.shape\n",
    "    else:\n",
    "        x,y,d = img.shape\n",
    "    xdelta = round((32-x ) / 2.0)\n",
    "    ydelta = round((32-y ) / 2.0)\n",
    "    return cv2.copyMakeBorder(img,xdelta,xdelta,ydelta,ydelta,cv2.BORDER_CONSTANT,value=[0,0,0])\n",
    "\n",
    "\n",
    "\n",
    "def augment_pipe(img):\n",
    "    #chain transforms\n",
    "    return resize_img(rotate_img(rnd_zoomout(rnd_zoomin(rdn_shift(rnd_stretch(img))))))\n",
    "\n",
    "\n",
    "#augment data: add original images and transformed copies, also create balanced training set\n",
    "\n",
    "X_train_new = []\n",
    "y_train_new = []    \n",
    "for label in range(43):\n",
    "    idx_list = df_train[df_train[0]==label].index.tolist()\n",
    "    idx_list_len = len(idx_list) #number of original samples for class\n",
    "    samples = 0\n",
    "    #add original and augmented image for every image in training set\n",
    "    for idx in idx_list:\n",
    "        samples += 2\n",
    "        X_train_new.append(X_train[idx])\n",
    "        y_train_new.append(y_train[idx])\n",
    "        X_train_new.append(augment_pipe(X_train[idx]))\n",
    "        y_train_new.append(y_train[idx])\n",
    "    #if class has less than minsample images, add additional images\n",
    "    minsample = 2000\n",
    "    if idx_list_len < minsample:\n",
    "        for i in range(minsample - (idx_list_len*2)):\n",
    "            rdm_idx = random.choice(idx_list)\n",
    "            X_train_new.append(augment_pipe(X_train[rdm_idx]))\n",
    "            y_train_new.append(y_train[rdm_idx])\n",
    "            \n",
    "print('done')\n",
    "\n"
   ]
  },
  {
   "cell_type": "code",
   "execution_count": 103,
   "metadata": {},
   "outputs": [
    {
     "data": {
      "image/png": "[encoded data removed]",
      "text/plain": [
       "<matplotlib.figure.Figure at 0x1e107ec1f60>"
      ]
     },
     "metadata": {},
     "output_type": "display_data"
    }
   ],
   "source": [
    "#save augmented data and show example\n",
    "X_train = np.array(X_train_new)\n",
    "y_train = np.array(y_train_new)\n",
    "\n",
    "with open(path_to_data + 'xtr.pickle', 'wb') as handle:\n",
    "    pickle.dump(X_train, handle)\n",
    "\n",
    "with open(path_to_data + 'ytr.pickle', 'wb') as handle:\n",
    "    pickle.dump(y_train, handle)\n",
    "\n",
    "fig,ax = plt.subplots(1)\n",
    "ax.imshow(X_train[-1])\n",
    "plt.show()"
   ]
  },
  {
   "cell_type": "code",
   "execution_count": 9,
   "metadata": {},
   "outputs": [
    {
     "data": {
      "image/png": "[encoded data removed]",
      "text/plain": [
       "<matplotlib.figure.Figure at 0x1a64bb0b978>"
      ]
     },
     "metadata": {},
     "output_type": "display_data"
    }
   ],
   "source": [
    "#load saved augmented training data\n",
    "with open(path_to_data + 'xtr.pickle', mode='rb') as f:\n",
    "    X_train = pickle.load(f)\n",
    "with open(path_to_data + 'ytr.pickle', mode='rb') as f:\n",
    "    y_train = pickle.load(f)\n",
    "\n",
    "df_2 = pd.DataFrame(y_train)\n",
    "group_train = df_2[0].value_counts()\n",
    "\n",
    "fig1 = group_train.plot(kind='bar', figsize = (16, 4), title='GTSRB: samples per label') \n",
    "fig1 = fig1.get_figure()\n",
    "fig1.savefig('examples/vis5.png')\n"
   ]
  },
  {
   "cell_type": "markdown",
   "metadata": {},
   "source": [
    "----\n",
    "\n",
    "## Step 2: Design and Test a Model Architecture\n",
    "\n",
    "Design and implement a deep learning model that learns to recognize traffic signs. Train and test your model on the [German Traffic Sign Dataset](http://benchmark.ini.rub.de/?section=gtsrb&subsection=dataset).\n",
    "\n",
    "The LeNet-5 implementation shown in the [classroom](https://classroom.udacity.com/nanodegrees/nd013/parts/fbf77062-5703-404e-b60c-95b78b2f3f9e/modules/6df7ae49-c61c-4bb2-a23e-6527e69209ec/lessons/601ae704-1035-4287-8b11-e2c2716217ad/concepts/d4aca031-508f-4e0b-b493-e7b706120f81) at the end of the CNN lesson is a solid starting point. You'll have to change the number of classes and possibly the preprocessing, but aside from that it's plug and play! \n",
    "\n",
    "With the LeNet-5 solution from the lecture, you should expect a validation set accuracy of about 0.89. To meet specifications, the validation set accuracy will need to be at least 0.93. It is possible to get an even higher accuracy, but 0.93 is the minimum for a successful project submission. \n",
    "\n",
    "There are various aspects to consider when thinking about this problem:\n",
    "\n",
    "- Neural network architecture (is the network over or underfitting?)\n",
    "- Play around preprocessing techniques (normalization, rgb to grayscale, etc)\n",
    "- Number of examples per label (some have more than others).\n",
    "- Generate fake data.\n",
    "\n",
    "Here is an example of a [published baseline model on this problem](http://yann.lecun.com/exdb/publis/pdf/sermanet-ijcnn-11.pdf). It's not required to be familiar with the approach used in the paper but, it's good practice to try to read papers like these."
   ]
  },
  {
   "cell_type": "markdown",
   "metadata": {},
   "source": [
    "### Pre-process the Data Set (normalization, grayscale, etc.)"
   ]
  },
  {
   "cell_type": "markdown",
   "metadata": {},
   "source": [
    "Minimally, the image data should be normalized so that the data has mean zero and equal variance. For image data, `(pixel - 128)/ 128` is a quick way to approximately normalize the data and can be used in this project. \n",
    "\n",
    "Other pre-processing steps are optional. You can try different techniques to see if it improves performance. \n",
    "\n",
    "Use the code cell (or multiple code cells, if necessary) to implement the first step of your project."
   ]
  },
  {
   "cell_type": "code",
   "execution_count": 41,
   "metadata": {
    "collapsed": true
   },
   "outputs": [],
   "source": [
    "### Preprocess the data here. It is required to normalize the data. Other preprocessing steps could include \n",
    "### converting to grayscale, etc.\n",
    "### Feel free to use as many code cells as needed.\n",
    "import numpy as np\n",
    "from sklearn.utils import shuffle\n",
    "import cv2\n",
    "\n",
    "#convert RGB to grayscale\n",
    "def convert_gray(nparray):\n",
    "    return cv2.cvtColor(nparray, cv2.COLOR_RGB2GRAY)\n",
    "\n",
    "\n",
    "def normalize(nparray):\n",
    "    #normalize as in Tensorflow-lab with min-max scaling\n",
    "    return (nparray-128)/128\n",
    "normalize_v = np.vectorize(normalize)\n",
    "\n",
    "#convert to grayscale, improve contrast, normalize\n",
    "X_train = np.asarray([convert_gray(i) for i in X_train])\n",
    "X_train = np.asarray([cv2.equalizeHist(i) for i in X_train])\n",
    "X_train = np.asarray([normalize_v(i) for i in X_train])\n",
    "X_train = np.expand_dims(X_train, -1)\n",
    "\n",
    "X_test = np.asarray([convert_gray(i) for i in X_test])\n",
    "X_test = np.asarray([cv2.equalizeHist(i) for i in X_test])\n",
    "X_test = np.asarray([normalize_v(i) for i in X_test])\n",
    "X_test = np.expand_dims(X_test, -1)\n",
    "\n",
    "X_valid = np.asarray([convert_gray(i) for i in X_valid])\n",
    "X_valid = np.asarray([cv2.equalizeHist(i) for i in X_valid])\n",
    "X_valid = np.asarray([normalize_v(i) for i in X_valid])\n",
    "X_valid = np.expand_dims(X_valid, -1)\n"
   ]
  },
  {
   "cell_type": "markdown",
   "metadata": {},
   "source": [
    "### Model Architecture"
   ]
  },
  {
   "cell_type": "code",
   "execution_count": 11,
   "metadata": {
    "collapsed": true
   },
   "outputs": [],
   "source": [
    "\n",
    "#LeNet as shown in lab\n",
    "\n",
    "import tensorflow as tf\n",
    "from sklearn.utils import shuffle\n",
    "from tensorflow.contrib.layers import flatten\n",
    "mu = 0\n",
    "sigma = 0.1\n",
    "\n",
    "x = tf.placeholder(tf.float32, (None, 32, 32, 1),  name=\"x_in\")\n",
    "y = tf.placeholder(tf.int32, (None),  name=\"y_in\")\n",
    "one_hot_y = tf.one_hot(y, 43)\n",
    "\n",
    "\n",
    "#keep_prob = 0.5\n",
    "keep_prob = tf.placeholder(tf.float32, name = \"keep\") # probability to keep units\n",
    "# Hyperparameters\n",
    "\n",
    "# SOLUTION: Layer 1: Convolutional. Input = 32x32x1. Output = 28x28x6.\n",
    "conv1_W = tf.Variable(tf.truncated_normal(shape=(5, 5, 1, 6), mean = mu, stddev = sigma, name=\"c1w\"))\n",
    "conv1_b = tf.Variable(tf.zeros(6), name=\"c1b\")\n",
    "conv1   = tf.nn.conv2d(x, conv1_W, strides=[1, 1, 1, 1], padding='VALID') + conv1_b\n",
    "\n",
    "# SOLUTION: Activation.\n",
    "conv1 = tf.nn.relu(conv1)\n",
    "\n",
    "# SOLUTION: Pooling. Input = 28x28x6. Output = 14x14x6.\n",
    "conv1 = tf.nn.max_pool(conv1, ksize=[1, 2, 2, 1], strides=[1, 2, 2, 1], padding='VALID')\n",
    "\n",
    "# SOLUTION: Layer 2: Convolutional. Output = 10x10x16.\n",
    "conv2_W = tf.Variable(tf.truncated_normal(shape=(5, 5, 6, 16), mean = mu, stddev = sigma, name=\"c2w\"))\n",
    "conv2_b = tf.Variable(tf.zeros(16), name=\"c2b\")\n",
    "conv2   = tf.nn.conv2d(conv1, conv2_W, strides=[1, 1, 1, 1], padding='VALID') + conv2_b\n",
    "\n",
    "# SOLUTION: Activation.\n",
    "conv2 = tf.nn.relu(conv2)\n",
    "\n",
    "# SOLUTION: Pooling. Input = 10x10x16. Output = 5x5x16.\n",
    "conv2 = tf.nn.max_pool(conv2, ksize=[1, 2, 2, 1], strides=[1, 2, 2, 1], padding='VALID')\n",
    "\n",
    "# SOLUTION: Flatten. Input = 5x5x16. Output = 400.\n",
    "fc0   = flatten(conv2)\n",
    "\n",
    "# SOLUTION: Layer 3: Fully Connected. Input = 400. Output = 120.\n",
    "fc1_W = tf.Variable(tf.truncated_normal(shape=(400, 120), mean = mu, stddev = sigma, name=\"fc1w\"))\n",
    "fc1_b = tf.Variable(tf.zeros(120), name=\"fc1b\")\n",
    "fc1   = tf.matmul(fc0, fc1_W) + fc1_b\n",
    "\n",
    "# SOLUTION: Activation.\n",
    "fc1    = tf.nn.relu(fc1)\n",
    "\n",
    "#add dropout layer\n",
    "fc1 = tf.nn.dropout(fc1, keep_prob)\n",
    "\n",
    "\n",
    "# SOLUTION: Layer 4: Fully Connected. Input = 120. Output = 84.\n",
    "fc2_W  = tf.Variable(tf.truncated_normal(shape=(120, 84), mean = mu, stddev = sigma, name=\"fc2w\"))\n",
    "fc2_b  = tf.Variable(tf.zeros(84), name=\"fc2b\")\n",
    "fc2    = tf.matmul(fc1, fc2_W) + fc2_b\n",
    "\n",
    "# SOLUTION: Activation.\n",
    "fc2    = tf.nn.relu(fc2)\n",
    "\n",
    "#add dropout layer\n",
    "fc2 = tf.nn.dropout(fc2, keep_prob)\n",
    "\n",
    "# SOLUTION: Layer 5: Fully Connected. Input = 84. Output = 43.\n",
    "fc3_W  = tf.Variable(tf.truncated_normal(shape=(84, 43), mean = mu, stddev = sigma, name=\"fc3w\"))\n",
    "fc3_b  = tf.Variable(tf.zeros(43), name=\"fc3b\")\n",
    "\n",
    "logits = tf.matmul(fc2, fc3_W) + fc3_b     "
   ]
  },
  {
   "cell_type": "markdown",
   "metadata": {},
   "source": [
    "### Train, Validate and Test the Model"
   ]
  },
  {
   "cell_type": "markdown",
   "metadata": {},
   "source": [
    "A validation set can be used to assess how well the model is performing. A low accuracy on the training and validation\n",
    "sets imply underfitting. A high accuracy on the training set but low accuracy on the validation set implies overfitting."
   ]
  },
  {
   "cell_type": "code",
   "execution_count": 8,
   "metadata": {
    "collapsed": true
   },
   "outputs": [],
   "source": [
    "### Train your model here.\n",
    "### Calculate and report the accuracy on the training and validation set.\n",
    "### Once a final model architecture is selected, \n",
    "### the accuracy on the test set should be calculated and reported as well.\n",
    "### Feel free to use as many code cells as needed."
   ]
  },
  {
   "cell_type": "code",
   "execution_count": 12,
   "metadata": {},
   "outputs": [
    {
     "name": "stdout",
     "output_type": "stream",
     "text": [
      "batch, learn, drop:\n",
      "128 0.0009 0.5\n",
      "Training...\n",
      "\n",
      "EPOCH 1 ...\n",
      "Training Accuracy = 0.749\n",
      "Validation Accuracy = 0.807\n",
      "\n",
      "EPOCH 2 ...\n",
      "Training Accuracy = 0.840\n",
      "Validation Accuracy = 0.875\n",
      "\n",
      "EPOCH 3 ...\n",
      "Training Accuracy = 0.882\n",
      "Validation Accuracy = 0.911\n",
      "\n",
      "EPOCH 4 ...\n",
      "Training Accuracy = 0.907\n",
      "Validation Accuracy = 0.934\n",
      "\n",
      "EPOCH 5 ...\n",
      "Training Accuracy = 0.918\n",
      "Validation Accuracy = 0.941\n",
      "\n",
      "EPOCH 6 ...\n",
      "Training Accuracy = 0.937\n",
      "Validation Accuracy = 0.964\n",
      "\n",
      "EPOCH 7 ...\n",
      "Training Accuracy = 0.944\n",
      "Validation Accuracy = 0.963\n",
      "\n",
      "EPOCH 8 ...\n",
      "Training Accuracy = 0.952\n",
      "Validation Accuracy = 0.970\n",
      "\n",
      "EPOCH 9 ...\n",
      "Training Accuracy = 0.956\n",
      "Validation Accuracy = 0.972\n",
      "\n",
      "EPOCH 10 ...\n",
      "Training Accuracy = 0.959\n",
      "Validation Accuracy = 0.972\n",
      "\n",
      "EPOCH 11 ...\n",
      "Training Accuracy = 0.962\n",
      "Validation Accuracy = 0.976\n",
      "\n",
      "EPOCH 12 ...\n",
      "Training Accuracy = 0.966\n",
      "Validation Accuracy = 0.973\n",
      "\n",
      "EPOCH 13 ...\n",
      "Training Accuracy = 0.966\n",
      "Validation Accuracy = 0.978\n",
      "\n",
      "EPOCH 14 ...\n",
      "Training Accuracy = 0.970\n",
      "Validation Accuracy = 0.980\n",
      "\n",
      "EPOCH 15 ...\n",
      "Training Accuracy = 0.968\n",
      "Validation Accuracy = 0.973\n",
      "\n",
      "EPOCH 16 ...\n",
      "Training Accuracy = 0.973\n",
      "Validation Accuracy = 0.977\n",
      "\n",
      "EPOCH 17 ...\n",
      "Training Accuracy = 0.974\n",
      "Validation Accuracy = 0.981\n",
      "\n",
      "EPOCH 18 ...\n",
      "Training Accuracy = 0.974\n",
      "Validation Accuracy = 0.978\n",
      "\n",
      "EPOCH 19 ...\n",
      "Training Accuracy = 0.973\n",
      "Validation Accuracy = 0.974\n",
      "\n",
      "EPOCH 20 ...\n",
      "Training Accuracy = 0.977\n",
      "Validation Accuracy = 0.976\n",
      "\n",
      "EPOCH 21 ...\n",
      "Training Accuracy = 0.978\n",
      "Validation Accuracy = 0.980\n",
      "\n",
      "EPOCH 22 ...\n",
      "Training Accuracy = 0.980\n",
      "Validation Accuracy = 0.982\n",
      "\n",
      "EPOCH 23 ...\n",
      "Training Accuracy = 0.980\n",
      "Validation Accuracy = 0.984\n",
      "\n",
      "EPOCH 24 ...\n",
      "Training Accuracy = 0.979\n",
      "Validation Accuracy = 0.980\n",
      "\n",
      "EPOCH 25 ...\n",
      "Training Accuracy = 0.982\n",
      "Validation Accuracy = 0.982\n",
      "\n",
      "EPOCH 26 ...\n",
      "Training Accuracy = 0.982\n",
      "Validation Accuracy = 0.981\n",
      "\n",
      "EPOCH 27 ...\n",
      "Training Accuracy = 0.982\n",
      "Validation Accuracy = 0.979\n",
      "\n",
      "EPOCH 28 ...\n",
      "Training Accuracy = 0.981\n",
      "Validation Accuracy = 0.979\n",
      "\n",
      "EPOCH 29 ...\n",
      "Training Accuracy = 0.983\n",
      "Validation Accuracy = 0.980\n",
      "\n",
      "EPOCH 30 ...\n",
      "Training Accuracy = 0.981\n",
      "Validation Accuracy = 0.979\n",
      "\n",
      "EPOCH 31 ...\n",
      "Training Accuracy = 0.985\n",
      "Validation Accuracy = 0.981\n",
      "\n",
      "EPOCH 32 ...\n",
      "Training Accuracy = 0.982\n",
      "Validation Accuracy = 0.978\n",
      "\n",
      "EPOCH 33 ...\n",
      "Training Accuracy = 0.986\n",
      "Validation Accuracy = 0.983\n",
      "\n",
      "EPOCH 34 ...\n",
      "Training Accuracy = 0.982\n",
      "Validation Accuracy = 0.980\n",
      "\n",
      "EPOCH 35 ...\n",
      "Training Accuracy = 0.984\n",
      "Validation Accuracy = 0.981\n",
      "\n",
      "EPOCH 36 ...\n",
      "Training Accuracy = 0.983\n",
      "Validation Accuracy = 0.979\n",
      "\n",
      "EPOCH 37 ...\n",
      "Training Accuracy = 0.986\n",
      "Validation Accuracy = 0.982\n",
      "\n",
      "EPOCH 38 ...\n",
      "Training Accuracy = 0.986\n",
      "Validation Accuracy = 0.983\n",
      "\n",
      "EPOCH 39 ...\n",
      "Training Accuracy = 0.986\n",
      "Validation Accuracy = 0.981\n",
      "\n",
      "EPOCH 40 ...\n",
      "Training Accuracy = 0.988\n",
      "Validation Accuracy = 0.983\n",
      "\n",
      "EPOCH 41 ...\n",
      "Training Accuracy = 0.987\n",
      "Validation Accuracy = 0.983\n",
      "\n",
      "EPOCH 42 ...\n",
      "Training Accuracy = 0.987\n",
      "Validation Accuracy = 0.982\n",
      "\n",
      "EPOCH 43 ...\n",
      "Training Accuracy = 0.986\n",
      "Validation Accuracy = 0.980\n",
      "\n",
      "EPOCH 44 ...\n",
      "Training Accuracy = 0.986\n",
      "Validation Accuracy = 0.982\n",
      "\n",
      "EPOCH 45 ...\n",
      "Training Accuracy = 0.987\n",
      "Validation Accuracy = 0.981\n",
      "\n",
      "EPOCH 46 ...\n",
      "Training Accuracy = 0.987\n",
      "Validation Accuracy = 0.981\n",
      "\n",
      "EPOCH 47 ...\n",
      "Training Accuracy = 0.989\n",
      "Validation Accuracy = 0.982\n",
      "\n",
      "EPOCH 48 ...\n",
      "Training Accuracy = 0.990\n",
      "Validation Accuracy = 0.983\n",
      "\n",
      "EPOCH 49 ...\n",
      "Training Accuracy = 0.989\n",
      "Validation Accuracy = 0.984\n",
      "\n",
      "EPOCH 50 ...\n",
      "Training Accuracy = 0.985\n",
      "Validation Accuracy = 0.981\n",
      "\n",
      "Model saved\n",
      "--- 297.6646635532379 seconds ---\n"
     ]
    }
   ],
   "source": [
    "import tensorflow as tf\n",
    "from sklearn.utils import shuffle\n",
    "from tensorflow.contrib.layers import flatten\n",
    "import time\n",
    "start_time = time.time()\n",
    "\n",
    "#list parameters here\n",
    "batches = [128]\n",
    "rates = [0.0009]\n",
    "dropprobs = [0.5]\n",
    "\n",
    "\n",
    "results = []\n",
    "EPOCHS = 50\n",
    "for b in batches:\n",
    "    for r in rates:\n",
    "        for d in dropprobs:\n",
    "            print('batch, learn, drop:')\n",
    "            print(b,r,d)\n",
    "            BATCH_SIZE = b \n",
    "\n",
    "            rate = r \n",
    "            keep = d\n",
    "\n",
    "            cross_entropy = tf.nn.softmax_cross_entropy_with_logits(labels=one_hot_y, logits=logits)\n",
    "            loss_operation = tf.reduce_mean(cross_entropy)\n",
    "            optimizer = tf.train.AdamOptimizer(learning_rate = rate)\n",
    "\n",
    "\n",
    "            training_operation = optimizer.minimize(loss_operation)\n",
    "\n",
    "            correct_prediction = tf.equal(tf.argmax(logits, 1), tf.argmax(one_hot_y, 1))\n",
    "            accuracy_operation = tf.reduce_mean(tf.cast(correct_prediction, tf.float32))\n",
    "            saver = tf.train.Saver()\n",
    "            probs = tf.nn.softmax(logits, name='prob')\n",
    "\n",
    "            def evaluate(X_data, y_data):\n",
    "                num_examples = len(X_data)\n",
    "                total_accuracy = 0\n",
    "                sess = tf.get_default_session()\n",
    "                for offset in range(0, num_examples, BATCH_SIZE):\n",
    "                    batch_x, batch_y = X_data[offset:offset+BATCH_SIZE], y_data[offset:offset+BATCH_SIZE]\n",
    "                    accuracy = sess.run(accuracy_operation, feed_dict={x: batch_x, y: batch_y, keep_prob:1.0})\n",
    "                    total_accuracy += (accuracy * len(batch_x))\n",
    "                return total_accuracy / num_examples\n",
    "\n",
    "            \n",
    "            current_vals = []\n",
    "            with tf.Session() as sess:\n",
    "\n",
    "                sess.run(tf.global_variables_initializer())\n",
    "                num_examples = len(X_train)\n",
    "\n",
    "                print(\"Training...\")\n",
    "                print()\n",
    "                for i in range(EPOCHS):\n",
    "                    X_train, y_train = shuffle(X_train, y_train)\n",
    "                    for offset in range(0, num_examples, BATCH_SIZE):\n",
    "                        end = offset + BATCH_SIZE\n",
    "                        batch_x, batch_y = X_train[offset:end], y_train[offset:end]\n",
    "                        sess.run(training_operation, feed_dict={x: batch_x, y: batch_y, keep_prob:keep})\n",
    "\n",
    "                    training_accuracy = evaluate(X_train, y_train)\n",
    "                    validation_accuracy = evaluate(X_valid, y_valid)\n",
    "                    current_vals.append(validation_accuracy)\n",
    "                    print(\"EPOCH {} ...\".format(i+1))\n",
    "                    print(\"Training Accuracy = {:.3f}\".format(training_accuracy))\n",
    "                    print(\"Validation Accuracy = {:.3f}\".format(validation_accuracy))\n",
    "                    print()\n",
    "\n",
    "                saver.save(sess, './lenet')\n",
    "                results.append([b,r,d, np.mean(current_vals[-5:])])\n",
    "\n",
    "                print(\"Model saved\")\n",
    "            print(\"--- %s seconds ---\" % (time.time() - start_time))\n",
    "\n",
    "#print(results)   #for parameter tuning\n",
    "\n",
    "\n"
   ]
  },
  {
   "cell_type": "code",
   "execution_count": 13,
   "metadata": {},
   "outputs": [
    {
     "name": "stdout",
     "output_type": "stream",
     "text": [
      "INFO:tensorflow:Restoring parameters from .\\lenet\n",
      "Test Accuracy = 0.953\n"
     ]
    }
   ],
   "source": [
    "#final evaluation after paramter tuning\n",
    "with tf.Session() as sess:\n",
    "    saver.restore(sess, tf.train.latest_checkpoint('.'))\n",
    "\n",
    "    test_accuracy = evaluate(X_test, y_test)\n",
    "    print(\"Test Accuracy = {:.3f}\".format(test_accuracy))"
   ]
  },
  {
   "cell_type": "code",
   "execution_count": 50,
   "metadata": {},
   "outputs": [
    {
     "name": "stdout",
     "output_type": "stream",
     "text": [
      "INFO:tensorflow:Restoring parameters from ./lenet\n"
     ]
    },
    {
     "data": {
      "image/png": "[encoded data removed]",
      "text/plain": [
       "<matplotlib.figure.Figure at 0x1a61474bb00>"
      ]
     },
     "metadata": {},
     "output_type": "display_data"
    }
   ],
   "source": [
    "#evaluate performance for each label\n",
    "\n",
    "class_test_acc = []\n",
    "\n",
    "with tf.Session() as sess:\n",
    "    sess.run(tf.global_variables_initializer())\n",
    "    saver.restore(sess, \"./lenet\")\n",
    "    \n",
    "    for label in range(43):\n",
    "        idx_list = df_test[df_test[0]==label].index.tolist()\n",
    "        X_testsub = np.array([X_test[i] for i in idx_list])\n",
    "        y_testsub = np.array([y_test[i] for i in idx_list])\n",
    "   \n",
    "        acc = evaluate(X_testsub, y_testsub)\n",
    "        class_test_acc.append(acc)\n",
    "\n",
    "    \n",
    "classes = list(range(0,43))\n",
    "fig = plt.figure(figsize=(16,4))\n",
    "ax = fig.gca() \n",
    "\n",
    "ax.plot(classes, class_test_acc,  label = 'Accuracy per class' ,      alpha=0.7)    \n",
    "ax.set_xticks(classes)\n",
    "ax.set_xticklabels(classes)\n",
    "plt.legend()\n",
    "plt.show()\n"
   ]
  },
  {
   "cell_type": "markdown",
   "metadata": {},
   "source": [
    "---\n",
    "\n",
    "## Step 3: Test a Model on New Images\n",
    "\n",
    "To give yourself more insight into how your model is working, download at least five pictures of German traffic signs from the web and use your model to predict the traffic sign type.\n",
    "\n",
    "You may find `signnames.csv` useful as it contains mappings from the class id (integer) to the actual sign name."
   ]
  },
  {
   "cell_type": "markdown",
   "metadata": {},
   "source": [
    "### Load and Output the Images"
   ]
  },
  {
   "cell_type": "code",
   "execution_count": 18,
   "metadata": {},
   "outputs": [
    {
     "data": {
      "image/png": "[encoded data removed]",
      "text/plain": [
       "<matplotlib.figure.Figure at 0x1a618bdf2b0>"
      ]
     },
     "metadata": {},
     "output_type": "display_data"
    },
    {
     "data": {
      "image/png": "[encoded data removed]",
      "text/plain": [
       "<matplotlib.figure.Figure at 0x1a618bdf128>"
      ]
     },
     "metadata": {},
     "output_type": "display_data"
    }
   ],
   "source": [
    "### Load the images and plot them here.\n",
    "### Feel free to use as many code cells as needed.\n",
    "import cv2\n",
    "import numpy as np\n",
    "from sklearn.utils import shuffle\n",
    "import os\n",
    "import matplotlib.pyplot as plt\n",
    "import matplotlib.image as mpimg\n",
    "import random\n",
    "    \n",
    "path_new_img = 'C:/Users/Jan/Desktop/udacity/CarND-Traffic-Sign-Classifier-Project/new_imgs/'\n",
    "\n",
    "labels_new_img = np.array([8, 31, 25, 12, 14])\n",
    "#load new images\n",
    "new_imgs = []\n",
    "for filename in os.listdir(path_new_img):\n",
    "    img = plt.imread(path_new_img + filename)\n",
    "    new_imgs.append(img)\n",
    "\n",
    "#preprocess images:\n",
    "new_imgs = np.asarray([resize_img(i) for i in new_imgs])\n",
    "new_imgsp = np.asarray([convert_gray(i) for i in new_imgs])\n",
    "new_imgsp = np.asarray([cv2.equalizeHist(i) for i in new_imgsp])\n",
    "new_imgsp = np.asarray([normalize_v(i) for i in new_imgsp])\n",
    "new_imgspd = np.expand_dims(new_imgsp, -1)\n",
    "\n",
    "\n",
    "def plot_figures(figures, nrows = 1, ncols=1):\n",
    "    f, axes = plt.subplots(ncols = ncols, nrows = nrows, figsize=(12, 12))\n",
    "    for i,name in zip(range(len(figures)), figures):\n",
    "        axes.ravel()[i].imshow(figures[name], cmap=plt.gray())\n",
    "        axes.ravel()[i].set_title(name)\n",
    "        axes.ravel()[i].set_axis_off()\n",
    "    plt.tight_layout()\n",
    "\n",
    "\n",
    "figures = dict(zip(labels_new_img, new_imgs))\n",
    "figuresp = dict(zip(labels_new_img, new_imgsp))\n",
    "\n",
    "\n",
    "plot_figures(figures, 1, 5)\n",
    "plot_figures(figuresp, 1, 5)\n"
   ]
  },
  {
   "cell_type": "markdown",
   "metadata": {},
   "source": [
    "### Predict the Sign Type for Each Image"
   ]
  },
  {
   "cell_type": "code",
   "execution_count": 19,
   "metadata": {},
   "outputs": [
    {
     "name": "stdout",
     "output_type": "stream",
     "text": [
      "INFO:tensorflow:Restoring parameters from ./lenet\n",
      "[[  9.36807394e-01   7.08102732e-09   4.21268753e-14   3.61398588e-06\n",
      "    2.16106666e-09   2.22445285e-14   2.03180721e-17   4.65770304e-11\n",
      "    6.31805807e-02   6.58458856e-13   8.30233271e-19   1.61599162e-24\n",
      "    9.60536425e-21   1.32522557e-20   3.65963661e-13   4.91528910e-13\n",
      "    8.44406713e-06   3.97545960e-25   3.83785153e-23   5.74925629e-19\n",
      "    7.56047121e-30   4.86340017e-36   1.91537046e-27   2.01834854e-26\n",
      "    3.72148682e-25   3.74075951e-32   4.34904400e-28   9.90510084e-27\n",
      "    2.25829254e-15   3.27600099e-20   1.34495879e-30   2.41314248e-18\n",
      "    1.48665654e-15   3.46168463e-31   3.43531203e-22   2.79131177e-30\n",
      "    6.77151465e-34   4.78548758e-18   2.27898932e-11   3.87123314e-21\n",
      "    1.70698820e-11   2.54698397e-29   2.35597330e-34]\n",
      " [  0.00000000e+00   0.00000000e+00   0.00000000e+00   0.00000000e+00\n",
      "    0.00000000e+00   0.00000000e+00   0.00000000e+00   0.00000000e+00\n",
      "    0.00000000e+00   0.00000000e+00   0.00000000e+00   1.56856588e-36\n",
      "    0.00000000e+00   0.00000000e+00   0.00000000e+00   0.00000000e+00\n",
      "    0.00000000e+00   0.00000000e+00   0.00000000e+00   6.67765949e-26\n",
      "    8.52142579e-34   2.26526629e-14   6.28595056e-24   2.63295381e-13\n",
      "    0.00000000e+00   1.00173892e-19   0.00000000e+00   0.00000000e+00\n",
      "    0.00000000e+00   1.72444863e-21   6.84456231e-37   1.00000000e+00\n",
      "    0.00000000e+00   0.00000000e+00   0.00000000e+00   0.00000000e+00\n",
      "    0.00000000e+00   6.23646828e-37   0.00000000e+00   0.00000000e+00\n",
      "    1.42315312e-37   0.00000000e+00   0.00000000e+00]\n",
      " [  0.00000000e+00   1.56673506e-22   0.00000000e+00   3.57566274e-38\n",
      "    0.00000000e+00   0.00000000e+00   0.00000000e+00   0.00000000e+00\n",
      "    0.00000000e+00   0.00000000e+00   0.00000000e+00   4.69384298e-33\n",
      "    9.53302443e-35   1.83947601e-32   0.00000000e+00   0.00000000e+00\n",
      "    0.00000000e+00   0.00000000e+00   2.05148850e-25   0.00000000e+00\n",
      "    2.79471333e-29   5.02108709e-32   5.45187505e-14   3.38713325e-34\n",
      "    1.01989546e-28   1.00000000e+00   0.00000000e+00   0.00000000e+00\n",
      "    0.00000000e+00   1.32004816e-22   4.97728002e-33   3.16213980e-15\n",
      "    0.00000000e+00   0.00000000e+00   3.98714507e-38   6.69964159e-37\n",
      "    1.61676380e-38   2.66349226e-28   8.74461578e-22   0.00000000e+00\n",
      "    4.97662428e-37   0.00000000e+00   0.00000000e+00]\n",
      " [  0.00000000e+00   8.07538986e-23   7.70005848e-25   4.30392697e-19\n",
      "    2.90455415e-31   2.76794821e-19   3.84239430e-38   1.03010103e-12\n",
      "    3.15493922e-27   4.57596124e-15   7.41483024e-24   6.00441133e-25\n",
      "    1.00000000e+00   5.33072933e-16   4.18139800e-21   5.73692148e-20\n",
      "    7.64989389e-28   3.87542640e-16   1.39991490e-28   0.00000000e+00\n",
      "    8.80878473e-25   0.00000000e+00   1.46064925e-27   0.00000000e+00\n",
      "    8.25857514e-37   5.65439851e-29   0.00000000e+00   0.00000000e+00\n",
      "    1.65026668e-18   2.08506918e-23   7.83688307e-31   1.03274590e-33\n",
      "    1.45542407e-23   1.20080394e-22   5.76562895e-24   7.15749768e-19\n",
      "    6.43432721e-25   2.47466439e-23   2.29407412e-16   9.67931838e-25\n",
      "    3.48540166e-14   1.75610060e-21   4.02342104e-21]\n",
      " [  3.08844877e-12   4.32284789e-14   6.68990349e-15   4.14177181e-09\n",
      "    1.28514278e-13   3.81686446e-18   7.91680357e-23   6.75033163e-13\n",
      "    2.17732565e-09   3.53528179e-16   1.37835863e-26   5.33737618e-32\n",
      "    2.61611566e-10   7.81469680e-08   9.99953270e-01   5.41806344e-07\n",
      "    2.37311595e-14   1.29599321e-13   1.72937854e-24   1.26664139e-38\n",
      "    3.17932022e-25   0.00000000e+00   1.19667347e-22   0.00000000e+00\n",
      "    3.31120706e-33   2.61616730e-31   5.58950661e-26   4.31437507e-35\n",
      "    1.47129696e-25   4.62191262e-26   4.53964678e-33   2.62697656e-32\n",
      "    6.36174349e-08   1.36852663e-23   2.06838505e-10   8.95776633e-19\n",
      "    2.08554629e-21   8.89276673e-20   4.59380244e-05   2.92282251e-17\n",
      "    3.91033560e-12   2.83574301e-30   0.00000000e+00]]\n"
     ]
    },
    {
     "data": {
      "image/png": "[encoded data removed]",
      "text/plain": [
       "<matplotlib.figure.Figure at 0x1a61430a208>"
      ]
     },
     "metadata": {},
     "output_type": "display_data"
    }
   ],
   "source": [
    "### Run the predictions here and use the model to output the prediction for each image.\n",
    "### Make sure to pre-process the images with the same pre-processing pipeline used earlier.\n",
    "### Feel free to use as many code cells as needed.\n",
    "\n",
    "import tensorflow as tf\n",
    "from matplotlib import pyplot as plt\n",
    "\n",
    "with tf.Session() as sess:\n",
    "    sess.run(tf.global_variables_initializer())\n",
    "    saver = tf.train.import_meta_graph('./lenet.meta')\n",
    "    saver.restore(sess, \"./lenet\")\n",
    "\n",
    "    proba = sess.run(probs, feed_dict={x: new_imgspd, keep_prob:1.0})\n",
    "    print(proba)    \n",
    "    classes = list(range(0,43))\n",
    "    fig = plt.figure(figsize=(16,4))\n",
    "    ax = fig.gca() \n",
    "    \n",
    "    for i in range(len(proba)):\n",
    "        ax.plot(classes, proba[i], label=\"Correct label:\" + str(labels_new_img[i]),    alpha=0.7)    \n",
    "    ax.set_xticks(classes)\n",
    "    ax.set_xticklabels(classes)\n",
    "    plt.legend()\n",
    "    plt.show()\n"
   ]
  },
  {
   "cell_type": "markdown",
   "metadata": {},
   "source": [
    "### Analyze Performance"
   ]
  },
  {
   "cell_type": "code",
   "execution_count": 20,
   "metadata": {},
   "outputs": [
    {
     "name": "stdout",
     "output_type": "stream",
     "text": [
      "INFO:tensorflow:Restoring parameters from ./lenet\n",
      "Accuracy on new images:  0.800000011921\n"
     ]
    }
   ],
   "source": [
    "### Calculate the accuracy for these 5 new images. \n",
    "### For example, if the model predicted 1 out of 5 signs correctly, it's 20% accurate on these new images.\n",
    "\n",
    "with tf.Session() as sess:\n",
    "    sess.run(tf.global_variables_initializer())\n",
    "    saver.restore(sess, \"./lenet\")\n",
    "    print('Accuracy on new images: ', evaluate(new_imgspd, labels_new_img))\n",
    "\n"
   ]
  },
  {
   "cell_type": "markdown",
   "metadata": {},
   "source": [
    "### Output Top 5 Softmax Probabilities For Each Image Found on the Web"
   ]
  },
  {
   "cell_type": "markdown",
   "metadata": {},
   "source": [
    "For each of the new images, print out the model's softmax probabilities to show the **certainty** of the model's predictions (limit the output to the top 5 probabilities for each image). [`tf.nn.top_k`](https://www.tensorflow.org/versions/r0.12/api_docs/python/nn.html#top_k) could prove helpful here. \n",
    "\n",
    "The example below demonstrates how tf.nn.top_k can be used to find the top k predictions for each image.\n",
    "\n",
    "`tf.nn.top_k` will return the values and indices (class ids) of the top k predictions. So if k=3, for each sign, it'll return the 3 largest probabilities (out of a possible 43) and the correspoding class ids.\n",
    "\n",
    "Take this numpy array as an example. The values in the array represent predictions. The array contains softmax probabilities for five candidate images with six possible classes. `tf.nn.top_k` is used to choose the three classes with the highest probability:\n",
    "\n",
    "```\n",
    "# (5, 6) array\n",
    "a = np.array([[ 0.24879643,  0.07032244,  0.12641572,  0.34763842,  0.07893497,\n",
    "         0.12789202],\n",
    "       [ 0.28086119,  0.27569815,  0.08594638,  0.0178669 ,  0.18063401,\n",
    "         0.15899337],\n",
    "       [ 0.26076848,  0.23664738,  0.08020603,  0.07001922,  0.1134371 ,\n",
    "         0.23892179],\n",
    "       [ 0.11943333,  0.29198961,  0.02605103,  0.26234032,  0.1351348 ,\n",
    "         0.16505091],\n",
    "       [ 0.09561176,  0.34396535,  0.0643941 ,  0.16240774,  0.24206137,\n",
    "         0.09155967]])\n",
    "```\n",
    "\n",
    "Running it through `sess.run(tf.nn.top_k(tf.constant(a), k=3))` produces:\n",
    "\n",
    "```\n",
    "TopKV2(values=array([[ 0.34763842,  0.24879643,  0.12789202],\n",
    "       [ 0.28086119,  0.27569815,  0.18063401],\n",
    "       [ 0.26076848,  0.23892179,  0.23664738],\n",
    "       [ 0.29198961,  0.26234032,  0.16505091],\n",
    "       [ 0.34396535,  0.24206137,  0.16240774]]), indices=array([[3, 0, 5],\n",
    "       [0, 1, 4],\n",
    "       [0, 5, 1],\n",
    "       [1, 3, 5],\n",
    "       [1, 4, 3]], dtype=int32))\n",
    "```\n",
    "\n",
    "Looking just at the first row we get `[ 0.34763842,  0.24879643,  0.12789202]`, you can confirm these are the 3 largest probabilities in `a`. You'll also notice `[3, 0, 5]` are the corresponding indices."
   ]
  },
  {
   "cell_type": "code",
   "execution_count": 21,
   "metadata": {},
   "outputs": [
    {
     "name": "stdout",
     "output_type": "stream",
     "text": [
      "INFO:tensorflow:Restoring parameters from ./lenet\n",
      "TopKV2(values=array([[  9.36807394e-01,   6.31805807e-02,   8.44406713e-06,\n",
      "          3.61398588e-06,   7.08102732e-09],\n",
      "       [  1.00000000e+00,   2.63295381e-13,   2.26526629e-14,\n",
      "          1.00173892e-19,   1.72444863e-21],\n",
      "       [  1.00000000e+00,   5.45187505e-14,   3.16213980e-15,\n",
      "          8.74461578e-22,   1.56673506e-22],\n",
      "       [  1.00000000e+00,   1.03010103e-12,   3.48540166e-14,\n",
      "          4.57596124e-15,   5.33072933e-16],\n",
      "       [  9.99953270e-01,   4.59380244e-05,   5.41806344e-07,\n",
      "          7.81469680e-08,   6.36174349e-08]], dtype=float32), indices=array([[ 0,  8, 16,  3,  1],\n",
      "       [31, 23, 21, 25, 29],\n",
      "       [25, 22, 31, 38,  1],\n",
      "       [12,  7, 40,  9, 13],\n",
      "       [14, 38, 15, 13, 32]]))\n"
     ]
    }
   ],
   "source": [
    "### Print out the top five softmax probabilities for the predictions on the German traffic sign images found on the web. \n",
    "### Feel free to use as many code cells as needed.\n",
    "\n",
    "import tensorflow as tf\n",
    "from matplotlib import pyplot as plt\n",
    "\n",
    "with tf.Session() as sess:\n",
    "    sess.run(tf.global_variables_initializer())\n",
    "    saver = tf.train.import_meta_graph('./lenet.meta')\n",
    "    saver.restore(sess, \"./lenet\")\n",
    "    probs = tf.nn.softmax(logits, name='prob')\n",
    "\n",
    "    top5 = sess.run(tf.nn.top_k(probs, k=5), feed_dict={x: new_imgspd, keep_prob:1.0})\n",
    "    \n",
    "\n",
    "    print(top5)\n",
    "    \n"
   ]
  },
  {
   "cell_type": "markdown",
   "metadata": {},
   "source": [
    "### Project Writeup\n",
    "\n",
    "Once you have completed the code implementation, document your results in a project writeup using this [template](https://github.com/udacity/CarND-Traffic-Sign-Classifier-Project/blob/master/writeup_template.md) as a guide. The writeup can be in a markdown or pdf file. "
   ]
  },
  {
   "cell_type": "markdown",
   "metadata": {},
   "source": [
    "> **Note**: Once you have completed all of the code implementations and successfully answered each question above, you may finalize your work by exporting the iPython Notebook as an HTML document. You can do this by using the menu above and navigating to  \\n\",\n",
    "    \"**File -> Download as -> HTML (.html)**. Include the finished document along with this notebook as your submission."
   ]
  },
  {
   "cell_type": "markdown",
   "metadata": {},
   "source": [
    "---\n",
    "\n",
    "## Step 4 (Optional): Visualize the Neural Network's State with Test Images\n",
    "\n",
    " This Section is not required to complete but acts as an additional excersise for understaning the output of a neural network's weights. While neural networks can be a great learning device they are often referred to as a black box. We can understand what the weights of a neural network look like better by plotting their feature maps. After successfully training your neural network you can see what it's feature maps look like by plotting the output of the network's weight layers in response to a test stimuli image. From these plotted feature maps, it's possible to see what characteristics of an image the network finds interesting. For a sign, maybe the inner network feature maps react with high activation to the sign's boundary outline or to the contrast in the sign's painted symbol.\n",
    "\n",
    " Provided for you below is the function code that allows you to get the visualization output of any tensorflow weight layer you want. The inputs to the function should be a stimuli image, one used during training or a new one you provided, and then the tensorflow variable name that represents the layer's state during the training process, for instance if you wanted to see what the [LeNet lab's](https://classroom.udacity.com/nanodegrees/nd013/parts/fbf77062-5703-404e-b60c-95b78b2f3f9e/modules/6df7ae49-c61c-4bb2-a23e-6527e69209ec/lessons/601ae704-1035-4287-8b11-e2c2716217ad/concepts/d4aca031-508f-4e0b-b493-e7b706120f81) feature maps looked like for it's second convolutional layer you could enter conv2 as the tf_activation variable.\n",
    "\n",
    "For an example of what feature map outputs look like, check out NVIDIA's results in their paper [End-to-End Deep Learning for Self-Driving Cars](https://devblogs.nvidia.com/parallelforall/deep-learning-self-driving-cars/) in the section Visualization of internal CNN State. NVIDIA was able to show that their network's inner weights had high activations to road boundary lines by comparing feature maps from an image with a clear path to one without. Try experimenting with a similar test to show that your trained network's weights are looking for interesting features, whether it's looking at differences in feature maps from images with or without a sign, or even what feature maps look like in a trained network vs a completely untrained one on the same sign image.\n",
    "\n",
    "<figure>\n",
    " <img src=\"visualize_cnn.png\" width=\"380\" alt=\"Combined Image\" />\n",
    " <figcaption>\n",
    " <p></p> \n",
    " <p style=\"text-align: center;\"> Your output should look something like this (above)</p> \n",
    " </figcaption>\n",
    "</figure>\n",
    " <p></p> \n"
   ]
  },
  {
   "cell_type": "code",
   "execution_count": 22,
   "metadata": {},
   "outputs": [
    {
     "name": "stdout",
     "output_type": "stream",
     "text": [
      "INFO:tensorflow:Restoring parameters from .\\lenet\n"
     ]
    },
    {
     "data": {
      "image/png": "[encoded data removed]",
      "text/plain": [
       "<matplotlib.figure.Figure at 0x1a64b8b1a20>"
      ]
     },
     "metadata": {},
     "output_type": "display_data"
    }
   ],
   "source": [
    "### Visualize your network's feature maps here.\n",
    "### Feel free to use as many code cells as needed.\n",
    "%matplotlib inline\n",
    "# image_input: the test image being fed into the network to produce the feature maps\n",
    "# tf_activation: should be a tf variable name used during your training procedure that represents the calculated state of a specific weight layer\n",
    "# activation_min/max: can be used to view the activation contrast in more detail, by default matplot sets min and max to the actual min and max values of the output\n",
    "# plt_num: used to plot out multiple different weight feature map sets on the same block, just extend the plt number for each new feature map entry\n",
    "\n",
    "def outputFeatureMap(image_input, tf_activation, activation_min=-1, activation_max=-1 ,plt_num=1):\n",
    "    # Here make sure to preprocess your image_input in a way your network expects\n",
    "    # with size, normalization, ect if needed\n",
    "    # image_input =\n",
    "    # Note: x should be the same name as your network's tensorflow data placeholder variable\n",
    "    # If you get an error tf_activation is not defined it may be having trouble accessing the variable from inside a function\n",
    "    activation = tf_activation.eval(session=sess,feed_dict={x : image_input})\n",
    "    featuremaps = activation.shape[3]\n",
    "    plt.figure(plt_num, figsize=(15,15))\n",
    "    for featuremap in range(featuremaps):\n",
    "        plt.subplot(6,8, featuremap+1) # sets the number of feature maps to show on each row and column\n",
    "        plt.title('FeatureMap ' + str(featuremap)) # displays the feature map number\n",
    "        if activation_min != -1 & activation_max != -1:\n",
    "            plt.imshow(activation[0,:,:, featuremap], interpolation=\"nearest\", vmin =activation_min, vmax=activation_max, cmap=\"gray\")\n",
    "        elif activation_max != -1:\n",
    "            plt.imshow(activation[0,:,:, featuremap], interpolation=\"nearest\", vmax=activation_max, cmap=\"gray\")\n",
    "        elif activation_min !=-1:\n",
    "            plt.imshow(activation[0,:,:, featuremap], interpolation=\"nearest\", vmin=activation_min, cmap=\"gray\")\n",
    "        else:\n",
    "            plt.imshow(activation[0,:,:, featuremap], interpolation=\"nearest\", cmap=\"gray\")\n",
    "\n",
    "\n",
    "with tf.Session() as sess:\n",
    "    saver.restore(sess, tf.train.latest_checkpoint('.'))\n",
    "    outputFeatureMap(image_input=new_imgspd, tf_activation=conv1)"
   ]
  },
  {
   "cell_type": "code",
   "execution_count": null,
   "metadata": {
    "collapsed": true
   },
   "outputs": [],
   "source": []
  }
 ],
 "metadata": {
  "anaconda-cloud": {},
  "kernelspec": {
   "display_name": "tensorpy36",
   "language": "python",
   "name": "tensorpy36"
  },
  "language_info": {
   "codemirror_mode": {
    "name": "ipython",
    "version": 3
   },
   "file_extension": ".py",
   "mimetype": "text/x-python",
   "name": "python",
   "nbconvert_exporter": "python",
   "pygments_lexer": "ipython3",
   "version": "3.5.3"
  }
 },
 "nbformat": 4,
 "nbformat_minor": 1
}
